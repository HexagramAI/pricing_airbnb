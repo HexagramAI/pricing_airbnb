{
 "cells": [
  {
   "cell_type": "code",
   "execution_count": null,
   "metadata": {},
   "outputs": [],
   "source": [
    "%load_ext autoreload\n",
    "%reload_ext autoreload\n",
    "\n",
    "%autoreload 2\n",
    "\n",
    "import numpy as np\n",
    "import pandas as pd\n",
    "from scipy import stats\n",
    "import datetime\n",
    "import os\n",
    "import re\n",
    "import logging\n",
    "\n",
    "logger = logging.getLogger(__name__)\n",
    "import pandas as pd\n",
    "import numpy as np\n",
    "from kedro.framework.context import load_context\n",
    "pd.set_option('display.max_columns', 20)\n",
    "pd.set_option('display.max_rows', 300)\n",
    "\"\"\"Visualize\"\"\"\n",
    "import cufflinks as cf\n",
    "\n",
    "import plotly\n",
    "import plotly.offline as py\n",
    "import plotly.graph_objs as go\n",
    "\n",
    "cf.go_offline() # required to use plotly offline (no account required).\n",
    "py.init_notebook_mode() # graphs charts inline (IPython).\n",
    "\"\"\"Sklearn\"\"\"\n",
    "from sklearn.metrics.pairwise import cosine_similarity\n",
    "import talib\n",
    "context = load_context('/Users/Zishuo_Li/projects/pricing_airbnb/', env='base')\n",
    "catalog = context.catalog\n",
    "\n",
    "import tensorflow as tf\n",
    "import tensorflow_probability as tfp\n",
    "tfd = tfp.distributions\n",
    "\n",
    "from prc.nodes.ds import model"
   ]
  },
  {
   "cell_type": "code",
   "execution_count": 410,
   "metadata": {},
   "outputs": [
    {
     "name": "stdout",
     "output_type": "stream",
     "text": [
      "2020-06-01 13:23:41,959 - kedro.io.data_catalog - INFO - Loading data from `fea_output` (CSVDataSet)...\n"
     ]
    }
   ],
   "source": [
    "df = catalog.load(\"fea_output\")"
   ]
  },
  {
   "cell_type": "code",
   "execution_count": 413,
   "metadata": {},
   "outputs": [],
   "source": [
    "embedding_cols = [\"neighbourhood_group\", \"room_type\", \"month\"]\n",
    "val_cols = [\"price\", \"minimum_nights\", \"lag\", \"number_of_reviews\", \"calculated_host_listings_count\"]\n",
    "\n",
    "num_dimensions = len(val_cols)\n",
    "num_samples = 1"
   ]
  },
  {
   "cell_type": "code",
   "execution_count": 414,
   "metadata": {},
   "outputs": [],
   "source": [
    "df = df.dropna(subset=embedding_cols + val_cols, how=\"any\")\n",
    "df = df.set_index([\"listing_id\", \"date\"])"
   ]
  },
  {
   "cell_type": "code",
   "execution_count": 415,
   "metadata": {},
   "outputs": [
    {
     "data": {
      "text/html": [
       "<div>\n",
       "<style scoped>\n",
       "    .dataframe tbody tr th:only-of-type {\n",
       "        vertical-align: middle;\n",
       "    }\n",
       "\n",
       "    .dataframe tbody tr th {\n",
       "        vertical-align: top;\n",
       "    }\n",
       "\n",
       "    .dataframe thead th {\n",
       "        text-align: right;\n",
       "    }\n",
       "</style>\n",
       "<table border=\"1\" class=\"dataframe\">\n",
       "  <thead>\n",
       "    <tr style=\"text-align: right;\">\n",
       "      <th></th>\n",
       "      <th></th>\n",
       "      <th>price</th>\n",
       "      <th>minimum_nights</th>\n",
       "      <th>lag</th>\n",
       "      <th>number_of_reviews</th>\n",
       "      <th>calculated_host_listings_count</th>\n",
       "      <th>neighbourhood_group</th>\n",
       "      <th>room_type</th>\n",
       "      <th>month</th>\n",
       "      <th>available</th>\n",
       "    </tr>\n",
       "    <tr>\n",
       "      <th>listing_id</th>\n",
       "      <th>date</th>\n",
       "      <th></th>\n",
       "      <th></th>\n",
       "      <th></th>\n",
       "      <th></th>\n",
       "      <th></th>\n",
       "      <th></th>\n",
       "      <th></th>\n",
       "      <th></th>\n",
       "      <th></th>\n",
       "    </tr>\n",
       "  </thead>\n",
       "  <tbody>\n",
       "    <tr>\n",
       "      <th rowspan=\"5\" valign=\"top\">26520</th>\n",
       "      <th>2020-05-08</th>\n",
       "      <td>4.584967</td>\n",
       "      <td>0.693147</td>\n",
       "      <td>1.098612</td>\n",
       "      <td>16</td>\n",
       "      <td>6</td>\n",
       "      <td>Brooklyn</td>\n",
       "      <td>Private room</td>\n",
       "      <td>5</td>\n",
       "      <td>t</td>\n",
       "    </tr>\n",
       "    <tr>\n",
       "      <th>2020-05-09</th>\n",
       "      <td>4.584967</td>\n",
       "      <td>0.693147</td>\n",
       "      <td>1.386294</td>\n",
       "      <td>16</td>\n",
       "      <td>6</td>\n",
       "      <td>Brooklyn</td>\n",
       "      <td>Private room</td>\n",
       "      <td>5</td>\n",
       "      <td>t</td>\n",
       "    </tr>\n",
       "    <tr>\n",
       "      <th>2020-05-10</th>\n",
       "      <td>4.584967</td>\n",
       "      <td>0.693147</td>\n",
       "      <td>1.609438</td>\n",
       "      <td>16</td>\n",
       "      <td>6</td>\n",
       "      <td>Brooklyn</td>\n",
       "      <td>Private room</td>\n",
       "      <td>5</td>\n",
       "      <td>t</td>\n",
       "    </tr>\n",
       "    <tr>\n",
       "      <th>2020-05-11</th>\n",
       "      <td>4.584967</td>\n",
       "      <td>0.693147</td>\n",
       "      <td>1.791759</td>\n",
       "      <td>16</td>\n",
       "      <td>6</td>\n",
       "      <td>Brooklyn</td>\n",
       "      <td>Private room</td>\n",
       "      <td>5</td>\n",
       "      <td>t</td>\n",
       "    </tr>\n",
       "    <tr>\n",
       "      <th>2020-05-12</th>\n",
       "      <td>4.584967</td>\n",
       "      <td>0.693147</td>\n",
       "      <td>1.945910</td>\n",
       "      <td>16</td>\n",
       "      <td>6</td>\n",
       "      <td>Brooklyn</td>\n",
       "      <td>Private room</td>\n",
       "      <td>5</td>\n",
       "      <td>t</td>\n",
       "    </tr>\n",
       "  </tbody>\n",
       "</table>\n",
       "</div>"
      ],
      "text/plain": [
       "                          price  minimum_nights       lag  number_of_reviews  \\\n",
       "listing_id date                                                                \n",
       "26520      2020-05-08  4.584967        0.693147  1.098612                 16   \n",
       "           2020-05-09  4.584967        0.693147  1.386294                 16   \n",
       "           2020-05-10  4.584967        0.693147  1.609438                 16   \n",
       "           2020-05-11  4.584967        0.693147  1.791759                 16   \n",
       "           2020-05-12  4.584967        0.693147  1.945910                 16   \n",
       "\n",
       "                       calculated_host_listings_count neighbourhood_group  \\\n",
       "listing_id date                                                             \n",
       "26520      2020-05-08                               6            Brooklyn   \n",
       "           2020-05-09                               6            Brooklyn   \n",
       "           2020-05-10                               6            Brooklyn   \n",
       "           2020-05-11                               6            Brooklyn   \n",
       "           2020-05-12                               6            Brooklyn   \n",
       "\n",
       "                          room_type  month available  \n",
       "listing_id date                                       \n",
       "26520      2020-05-08  Private room      5         t  \n",
       "           2020-05-09  Private room      5         t  \n",
       "           2020-05-10  Private room      5         t  \n",
       "           2020-05-11  Private room      5         t  \n",
       "           2020-05-12  Private room      5         t  "
      ]
     },
     "execution_count": 415,
     "metadata": {},
     "output_type": "execute_result"
    }
   ],
   "source": [
    "df = df[val_cols + embedding_cols + [\"available\"]]\n",
    "df.head()"
   ]
  },
  {
   "cell_type": "code",
   "execution_count": 433,
   "metadata": {},
   "outputs": [],
   "source": [
    "df_true = df[df[\"available\"] == \"t\"]\n",
    "df_false = df[df[\"available\"] != \"t\"]"
   ]
  },
  {
   "cell_type": "code",
   "execution_count": 434,
   "metadata": {},
   "outputs": [],
   "source": [
    "df_sampled = pd.concat([df_false.sample(len(df_true)), df_true], axis=0)"
   ]
  },
  {
   "cell_type": "code",
   "execution_count": 435,
   "metadata": {},
   "outputs": [
    {
     "data": {
      "text/plain": [
       "(1376604, 9)"
      ]
     },
     "execution_count": 435,
     "metadata": {},
     "output_type": "execute_result"
    }
   ],
   "source": [
    "df_sampled.shape"
   ]
  },
  {
   "cell_type": "code",
   "execution_count": 438,
   "metadata": {},
   "outputs": [],
   "source": [
    "x_val = df_sampled[val_cols].values\n",
    "\n",
    "y = (df_sampled[\"available\"] == \"t\").astype(int)"
   ]
  },
  {
   "cell_type": "code",
   "execution_count": 447,
   "metadata": {},
   "outputs": [],
   "source": [
    "embed_lookup, x_embed_raw = build_embedding_dic(df_sampled, embedding_cols)"
   ]
  },
  {
   "cell_type": "code",
   "execution_count": 457,
   "metadata": {},
   "outputs": [],
   "source": [
    "    neighbourhood_group_input = tf.keras.layers.Input(shape=1)\n",
    "    neighbourhood_group_embed_layer = tf.keras.layers.Embedding(\n",
    "        input_dim=len(embed_lookup[\"neighbourhood_group\"]), output_dim=5\n",
    "    )(neighbourhood_group_input)"
   ]
  },
  {
   "cell_type": "code",
   "execution_count": 462,
   "metadata": {},
   "outputs": [
    {
     "data": {
      "text/plain": [
       "<tf.Tensor 'flatten_1/Identity:0' shape=(None, 5) dtype=float32>"
      ]
     },
     "execution_count": 462,
     "metadata": {},
     "output_type": "execute_result"
    }
   ],
   "source": [
    "tf.keras.layers.Flatten()(neighbourhood_group_embed_layer)"
   ]
  },
  {
   "cell_type": "code",
   "execution_count": null,
   "metadata": {},
   "outputs": [],
   "source": []
  },
  {
   "cell_type": "code",
   "execution_count": null,
   "metadata": {},
   "outputs": [],
   "source": []
  },
  {
   "cell_type": "code",
   "execution_count": 463,
   "metadata": {},
   "outputs": [],
   "source": [
    "def build_model(num_dimensions, num_samples, embed_lookup, lr=0.001):\n",
    "    \"\"\"Based model.\"\"\"\n",
    "    input_layer = tf.keras.layers.Input(shape=num_dimensions)\n",
    "    # add embedding layer for neighbourhood\n",
    "    neighbourhood_group_input = tf.keras.layers.Input(shape=1)\n",
    "    neighbourhood_group_embed_layer = tf.keras.layers.Embedding(\n",
    "        input_dim=len(embed_lookup[\"neighbourhood_group\"]), output_dim=5\n",
    "    )(neighbourhood_group_input)\n",
    "    neighbourhood_flatten = tf.keras.layers.Flatten()(neighbourhood_group_embed_layer)\n",
    "    \n",
    "    # add embedding layer for room\n",
    "    room_type_input = tf.keras.layers.Input(shape=1)\n",
    "    room_type_embed_layer = tf.keras.layers.Embedding(\n",
    "        input_dim=len(embed_lookup[\"room_type\"]), output_dim=5\n",
    "    )(room_type_input)\n",
    "    room_type_flatten = tf.keras.layers.Flatten()(room_type_embed_layer)\n",
    "\n",
    "    # add embedding layer for month\n",
    "    month_input = tf.keras.layers.Input(shape=1)\n",
    "    month_embed_layer = tf.keras.layers.Embedding(\n",
    "        input_dim=len(embed_lookup[\"month\"]), output_dim=12\n",
    "    )(month_input)\n",
    "    month_flattern = tf.keras.layers.Flatten()(month_embed_layer)\n",
    "    \n",
    "    concat_layer = tf.keras.layers.concatenate(\n",
    "        [\n",
    "            input_layer,\n",
    "            neighbourhood_flatten,\n",
    "            room_type_flatten,\n",
    "            month_flattern,\n",
    "        ]\n",
    "    )\n",
    "    kl_divergence_function = lambda q, p, _: tfd.kl_divergence(q, p) / tf.cast(\n",
    "        num_samples, dtype=tf.float32\n",
    "    )\n",
    "    dense_layer = tfp.layers.DenseFlipout(\n",
    "        units=1,\n",
    "        activation=\"sigmoid\",\n",
    "        kernel_posterior_fn=tfp.layers.default_mean_field_normal_fn(),\n",
    "        bias_posterior_fn=tfp.layers.default_mean_field_normal_fn(),\n",
    "        kernel_divergence_fn=kl_divergence_function,\n",
    "    )(concat_layer)\n",
    "\n",
    "    model = tf.keras.Model(\n",
    "        inputs=[input_layer, neighbourhood_group_input, room_type_input, month_input],\n",
    "        outputs=dense_layer,\n",
    "    )\n",
    "\n",
    "    optimizer = tf.keras.optimizers.Adam(lr=lr)\n",
    "    model.compile(optimizer, loss=\"binary_crossentropy\", metrics=[\"accuracy\"])\n",
    "    return model\n"
   ]
  },
  {
   "cell_type": "code",
   "execution_count": 464,
   "metadata": {},
   "outputs": [],
   "source": [
    "model = build_model(num_dimensions, num_samples, embed_lookup, lr=0.001)"
   ]
  },
  {
   "cell_type": "code",
   "execution_count": 465,
   "metadata": {},
   "outputs": [
    {
     "name": "stdout",
     "output_type": "stream",
     "text": [
      "Model: \"model_101\"\n",
      "__________________________________________________________________________________________________\n",
      "Layer (type)                    Output Shape         Param #     Connected to                     \n",
      "==================================================================================================\n",
      "input_162 (InputLayer)          [(None, 1)]          0                                            \n",
      "__________________________________________________________________________________________________\n",
      "input_163 (InputLayer)          [(None, 1)]          0                                            \n",
      "__________________________________________________________________________________________________\n",
      "input_164 (InputLayer)          [(None, 1)]          0                                            \n",
      "__________________________________________________________________________________________________\n",
      "embedding_59 (Embedding)        (None, 1, 5)         25          input_162[0][0]                  \n",
      "__________________________________________________________________________________________________\n",
      "embedding_60 (Embedding)        (None, 1, 5)         15          input_163[0][0]                  \n",
      "__________________________________________________________________________________________________\n",
      "embedding_61 (Embedding)        (None, 1, 12)        36          input_164[0][0]                  \n",
      "__________________________________________________________________________________________________\n",
      "input_161 (InputLayer)          [(None, 5)]          0                                            \n",
      "__________________________________________________________________________________________________\n",
      "flatten_2 (Flatten)             (None, 5)            0           embedding_59[0][0]               \n",
      "__________________________________________________________________________________________________\n",
      "flatten_3 (Flatten)             (None, 5)            0           embedding_60[0][0]               \n",
      "__________________________________________________________________________________________________\n",
      "flatten_4 (Flatten)             (None, 12)           0           embedding_61[0][0]               \n",
      "__________________________________________________________________________________________________\n",
      "concatenate_21 (Concatenate)    (None, 27)           0           input_161[0][0]                  \n",
      "                                                                 flatten_2[0][0]                  \n",
      "                                                                 flatten_3[0][0]                  \n",
      "                                                                 flatten_4[0][0]                  \n",
      "__________________________________________________________________________________________________\n",
      "dense_flipout_101 (DenseFlipout (None, 1)            56          concatenate_21[0][0]             \n",
      "==================================================================================================\n",
      "Total params: 132\n",
      "Trainable params: 132\n",
      "Non-trainable params: 0\n",
      "__________________________________________________________________________________________________\n"
     ]
    }
   ],
   "source": [
    "model.summary()"
   ]
  },
  {
   "cell_type": "code",
   "execution_count": 466,
   "metadata": {},
   "outputs": [
    {
     "name": "stdout",
     "output_type": "stream",
     "text": [
      "Epoch 1/10\n",
      "43019/43019 [==============================] - 53s 1ms/step - loss: 7.4050 - accuracy: 0.5668 0s - loss:\n",
      "Epoch 2/10\n",
      "43019/43019 [==============================] - 41s 954us/step - loss: 5.2265 - accuracy: 0.5680\n",
      "Epoch 3/10\n",
      "43019/43019 [==============================] - 48s 1ms/step - loss: 5.2162 - accuracy: 0.5677\n",
      "Epoch 4/10\n",
      "43019/43019 [==============================] - 51s 1ms/step - loss: 5.2207 - accuracy: 0.5689\n",
      "Epoch 5/10\n",
      "43019/43019 [==============================] - 61s 1ms/step - loss: 5.2208 - accuracy: 0.5672\n",
      "Epoch 6/10\n",
      "43019/43019 [==============================] - 47s 1ms/step - loss: 5.2278 - accuracy: 0.5688\n",
      "Epoch 7/10\n",
      "43019/43019 [==============================] - 51s 1ms/step - loss: 5.2279 - accuracy: 0.5687\n",
      "Epoch 8/10\n",
      "43019/43019 [==============================] - 55s 1ms/step - loss: 5.2299 - accuracy: 0.5682\n",
      "Epoch 9/10\n",
      "43019/43019 [==============================] - 50s 1ms/step - loss: 5.2429 - accuracy: 0.5679\n",
      "Epoch 10/10\n",
      "43019/43019 [==============================] - 47s 1ms/step - loss: 5.2165 - accuracy: 0.5685\n"
     ]
    },
    {
     "data": {
      "text/plain": [
       "<tensorflow.python.keras.callbacks.History at 0x3aa3b3e90>"
      ]
     },
     "execution_count": 466,
     "metadata": {},
     "output_type": "execute_result"
    }
   ],
   "source": [
    "model.fit([x_val, x_embed_raw[0], x_embed_raw[1], x_embed_raw[2]], y, epochs=10)"
   ]
  },
  {
   "cell_type": "code",
   "execution_count": null,
   "metadata": {},
   "outputs": [],
   "source": []
  },
  {
   "cell_type": "code",
   "execution_count": 150,
   "metadata": {},
   "outputs": [],
   "source": [
    "last_layer = model.layers[-1]"
   ]
  },
  {
   "cell_type": "raw",
   "metadata": {},
   "source": [
    "last_layer.kernel_posterior.sample(10)"
   ]
  },
  {
   "cell_type": "code",
   "execution_count": null,
   "metadata": {},
   "outputs": [],
   "source": []
  },
  {
   "cell_type": "code",
   "execution_count": null,
   "metadata": {},
   "outputs": [],
   "source": []
  },
  {
   "cell_type": "markdown",
   "metadata": {},
   "source": [
    "# without embedding"
   ]
  },
  {
   "cell_type": "code",
   "execution_count": 359,
   "metadata": {},
   "outputs": [],
   "source": [
    "def build_model(num_dimensions, num_samples, lr=0.001):\n",
    "    kl_divergence_function = (lambda q, p, _: tfd.kl_divergence(q, p) /  tf.cast(num_samples, dtype=tf.float32))\n",
    "\n",
    "    input_layer = tf.keras.layers.Input(shape=num_dimensions)\n",
    "    dense_layer = tfp.layers.DenseFlipout(\n",
    "        units=1,\n",
    "        activation='sigmoid',\n",
    "        kernel_posterior_fn=tfp.layers.default_mean_field_normal_fn(),\n",
    "        bias_posterior_fn=tfp.layers.default_mean_field_normal_fn(),\n",
    "        kernel_divergence_fn=kl_divergence_function)(input_layer)\n",
    "    model = tf.keras.Model(inputs=input_layer, outputs=dense_layer)\n",
    "\n",
    "    optimizer = tf.keras.optimizers.Adam(lr=lr)\n",
    "    model.compile(optimizer, loss=\"binary_crossentropy\", metrics=[\"accuracy\"])\n",
    "    return model"
   ]
  },
  {
   "cell_type": "code",
   "execution_count": 360,
   "metadata": {},
   "outputs": [
    {
     "data": {
      "text/plain": [
       "(1484260, 5)"
      ]
     },
     "execution_count": 360,
     "metadata": {},
     "output_type": "execute_result"
    }
   ],
   "source": [
    "x_val.shape"
   ]
  },
  {
   "cell_type": "code",
   "execution_count": 381,
   "metadata": {},
   "outputs": [
    {
     "name": "stdout",
     "output_type": "stream",
     "text": [
      "Epoch 1/2\n",
      "1/1 [==============================] - 0s 1ms/step - loss: nan - accuracy: 0.8000\n",
      "Epoch 2/2\n",
      "1/1 [==============================] - 0s 945us/step - loss: nan - accuracy: 0.5000\n"
     ]
    },
    {
     "data": {
      "text/plain": [
       "<tensorflow.python.keras.callbacks.History at 0x30a2e6790>"
      ]
     },
     "execution_count": 381,
     "metadata": {},
     "output_type": "execute_result"
    }
   ],
   "source": [
    "num_samples = 600\n",
    "model = build_model(num_dimensions, num_samples, lr=0.0001)\n",
    "\n",
    "\n",
    "model.fit(x_val, y, epochs=2, batch_size=num_samples)"
   ]
  },
  {
   "cell_type": "code",
   "execution_count": 380,
   "metadata": {},
   "outputs": [
    {
     "data": {
      "text/plain": [
       "['price',\n",
       " 'minimum_nights',\n",
       " 'lag',\n",
       " 'number_of_reviews',\n",
       " 'calculated_host_listings_count']"
      ]
     },
     "execution_count": 380,
     "metadata": {},
     "output_type": "execute_result"
    }
   ],
   "source": [
    "val_cols"
   ]
  },
  {
   "cell_type": "code",
   "execution_count": null,
   "metadata": {},
   "outputs": [],
   "source": []
  },
  {
   "cell_type": "code",
   "execution_count": null,
   "metadata": {},
   "outputs": [],
   "source": []
  },
  {
   "cell_type": "code",
   "execution_count": null,
   "metadata": {},
   "outputs": [],
   "source": []
  },
  {
   "cell_type": "markdown",
   "metadata": {},
   "source": [
    "# EVAL"
   ]
  },
  {
   "cell_type": "code",
   "execution_count": 10,
   "metadata": {},
   "outputs": [],
   "source": [
    "candidate_w_bs = [(model.layers[-1].kernel_posterior.sample().numpy(), model.layers[-1].bias_posterior.sample().numpy())]"
   ]
  },
  {
   "cell_type": "code",
   "execution_count": 68,
   "metadata": {},
   "outputs": [],
   "source": [
    "y_pred = model.predict(x)"
   ]
  },
  {
   "cell_type": "code",
   "execution_count": 69,
   "metadata": {},
   "outputs": [],
   "source": [
    "df[\"y_pred\"] = y_pred"
   ]
  },
  {
   "cell_type": "code",
   "execution_count": 70,
   "metadata": {},
   "outputs": [
    {
     "data": {
      "text/html": [
       "<div>\n",
       "<style scoped>\n",
       "    .dataframe tbody tr th:only-of-type {\n",
       "        vertical-align: middle;\n",
       "    }\n",
       "\n",
       "    .dataframe tbody tr th {\n",
       "        vertical-align: top;\n",
       "    }\n",
       "\n",
       "    .dataframe thead th {\n",
       "        text-align: right;\n",
       "    }\n",
       "</style>\n",
       "<table border=\"1\" class=\"dataframe\">\n",
       "  <thead>\n",
       "    <tr style=\"text-align: right;\">\n",
       "      <th></th>\n",
       "      <th>listing_id</th>\n",
       "      <th>date</th>\n",
       "      <th>available</th>\n",
       "      <th>price</th>\n",
       "      <th>adjusted_price</th>\n",
       "      <th>minimum_nights</th>\n",
       "      <th>maximum_nights</th>\n",
       "      <th>lag</th>\n",
       "      <th>month</th>\n",
       "      <th>y_pred</th>\n",
       "    </tr>\n",
       "  </thead>\n",
       "  <tbody>\n",
       "    <tr>\n",
       "      <th>0</th>\n",
       "      <td>2539</td>\n",
       "      <td>2019-05-04</td>\n",
       "      <td>t</td>\n",
       "      <td>5.003946</td>\n",
       "      <td>$149.00</td>\n",
       "      <td>0.0</td>\n",
       "      <td>730.0</td>\n",
       "      <td>0.000000</td>\n",
       "      <td>1.609438</td>\n",
       "      <td>NaN</td>\n",
       "    </tr>\n",
       "    <tr>\n",
       "      <th>1</th>\n",
       "      <td>2539</td>\n",
       "      <td>2019-05-05</td>\n",
       "      <td>t</td>\n",
       "      <td>4.859812</td>\n",
       "      <td>$129.00</td>\n",
       "      <td>0.0</td>\n",
       "      <td>730.0</td>\n",
       "      <td>0.693147</td>\n",
       "      <td>1.609438</td>\n",
       "      <td>NaN</td>\n",
       "    </tr>\n",
       "    <tr>\n",
       "      <th>2</th>\n",
       "      <td>2539</td>\n",
       "      <td>2019-05-06</td>\n",
       "      <td>t</td>\n",
       "      <td>4.859812</td>\n",
       "      <td>$129.00</td>\n",
       "      <td>0.0</td>\n",
       "      <td>730.0</td>\n",
       "      <td>1.098612</td>\n",
       "      <td>1.609438</td>\n",
       "      <td>NaN</td>\n",
       "    </tr>\n",
       "    <tr>\n",
       "      <th>3</th>\n",
       "      <td>2539</td>\n",
       "      <td>2019-05-07</td>\n",
       "      <td>t</td>\n",
       "      <td>4.859812</td>\n",
       "      <td>$129.00</td>\n",
       "      <td>0.0</td>\n",
       "      <td>730.0</td>\n",
       "      <td>1.386294</td>\n",
       "      <td>1.609438</td>\n",
       "      <td>NaN</td>\n",
       "    </tr>\n",
       "    <tr>\n",
       "      <th>4</th>\n",
       "      <td>2539</td>\n",
       "      <td>2019-05-08</td>\n",
       "      <td>t</td>\n",
       "      <td>4.859812</td>\n",
       "      <td>$129.00</td>\n",
       "      <td>0.0</td>\n",
       "      <td>730.0</td>\n",
       "      <td>1.609438</td>\n",
       "      <td>1.609438</td>\n",
       "      <td>NaN</td>\n",
       "    </tr>\n",
       "    <tr>\n",
       "      <th>...</th>\n",
       "      <td>...</td>\n",
       "      <td>...</td>\n",
       "      <td>...</td>\n",
       "      <td>...</td>\n",
       "      <td>...</td>\n",
       "      <td>...</td>\n",
       "      <td>...</td>\n",
       "      <td>...</td>\n",
       "      <td>...</td>\n",
       "      <td>...</td>\n",
       "    </tr>\n",
       "    <tr>\n",
       "      <th>2949620</th>\n",
       "      <td>34369498</td>\n",
       "      <td>2019-06-28</td>\n",
       "      <td>t</td>\n",
       "      <td>5.768321</td>\n",
       "      <td>$320.00</td>\n",
       "      <td>0.0</td>\n",
       "      <td>1125.0</td>\n",
       "      <td>4.025352</td>\n",
       "      <td>1.791759</td>\n",
       "      <td>NaN</td>\n",
       "    </tr>\n",
       "    <tr>\n",
       "      <th>2949621</th>\n",
       "      <td>34369498</td>\n",
       "      <td>2019-06-29</td>\n",
       "      <td>t</td>\n",
       "      <td>5.768321</td>\n",
       "      <td>$320.00</td>\n",
       "      <td>0.0</td>\n",
       "      <td>1125.0</td>\n",
       "      <td>4.043051</td>\n",
       "      <td>1.791759</td>\n",
       "      <td>NaN</td>\n",
       "    </tr>\n",
       "    <tr>\n",
       "      <th>2949622</th>\n",
       "      <td>34369498</td>\n",
       "      <td>2019-06-30</td>\n",
       "      <td>t</td>\n",
       "      <td>5.768321</td>\n",
       "      <td>$320.00</td>\n",
       "      <td>0.0</td>\n",
       "      <td>1125.0</td>\n",
       "      <td>4.060443</td>\n",
       "      <td>1.791759</td>\n",
       "      <td>NaN</td>\n",
       "    </tr>\n",
       "    <tr>\n",
       "      <th>2949623</th>\n",
       "      <td>34369498</td>\n",
       "      <td>2019-07-01</td>\n",
       "      <td>t</td>\n",
       "      <td>5.768321</td>\n",
       "      <td>$320.00</td>\n",
       "      <td>0.0</td>\n",
       "      <td>1125.0</td>\n",
       "      <td>4.077537</td>\n",
       "      <td>1.945910</td>\n",
       "      <td>NaN</td>\n",
       "    </tr>\n",
       "    <tr>\n",
       "      <th>2949624</th>\n",
       "      <td>34369498</td>\n",
       "      <td>2019-07-02</td>\n",
       "      <td>t</td>\n",
       "      <td>5.768321</td>\n",
       "      <td>$320.00</td>\n",
       "      <td>0.0</td>\n",
       "      <td>1125.0</td>\n",
       "      <td>4.094345</td>\n",
       "      <td>1.945910</td>\n",
       "      <td>NaN</td>\n",
       "    </tr>\n",
       "  </tbody>\n",
       "</table>\n",
       "<p>2949625 rows × 10 columns</p>\n",
       "</div>"
      ],
      "text/plain": [
       "         listing_id        date available     price adjusted_price  \\\n",
       "0              2539  2019-05-04         t  5.003946        $149.00   \n",
       "1              2539  2019-05-05         t  4.859812        $129.00   \n",
       "2              2539  2019-05-06         t  4.859812        $129.00   \n",
       "3              2539  2019-05-07         t  4.859812        $129.00   \n",
       "4              2539  2019-05-08         t  4.859812        $129.00   \n",
       "...             ...         ...       ...       ...            ...   \n",
       "2949620    34369498  2019-06-28         t  5.768321        $320.00   \n",
       "2949621    34369498  2019-06-29         t  5.768321        $320.00   \n",
       "2949622    34369498  2019-06-30         t  5.768321        $320.00   \n",
       "2949623    34369498  2019-07-01         t  5.768321        $320.00   \n",
       "2949624    34369498  2019-07-02         t  5.768321        $320.00   \n",
       "\n",
       "         minimum_nights  maximum_nights       lag     month  y_pred  \n",
       "0                   0.0           730.0  0.000000  1.609438     NaN  \n",
       "1                   0.0           730.0  0.693147  1.609438     NaN  \n",
       "2                   0.0           730.0  1.098612  1.609438     NaN  \n",
       "3                   0.0           730.0  1.386294  1.609438     NaN  \n",
       "4                   0.0           730.0  1.609438  1.609438     NaN  \n",
       "...                 ...             ...       ...       ...     ...  \n",
       "2949620             0.0          1125.0  4.025352  1.791759     NaN  \n",
       "2949621             0.0          1125.0  4.043051  1.791759     NaN  \n",
       "2949622             0.0          1125.0  4.060443  1.791759     NaN  \n",
       "2949623             0.0          1125.0  4.077537  1.945910     NaN  \n",
       "2949624             0.0          1125.0  4.094345  1.945910     NaN  \n",
       "\n",
       "[2949625 rows x 10 columns]"
      ]
     },
     "execution_count": 70,
     "metadata": {},
     "output_type": "execute_result"
    }
   ],
   "source": [
    "df"
   ]
  }
 ],
 "metadata": {
  "kernelspec": {
   "display_name": "Python 3.7.4 64-bit ('py37': virtualenv)",
   "language": "python",
   "name": "python37464bitpy37virtualenvdbe1ced412194ac694ae99d9717ae184"
  },
  "language_info": {
   "codemirror_mode": {
    "name": "ipython",
    "version": 3
   },
   "file_extension": ".py",
   "mimetype": "text/x-python",
   "name": "python",
   "nbconvert_exporter": "python",
   "pygments_lexer": "ipython3",
   "version": "3.7.4"
  }
 },
 "nbformat": 4,
 "nbformat_minor": 2
}
